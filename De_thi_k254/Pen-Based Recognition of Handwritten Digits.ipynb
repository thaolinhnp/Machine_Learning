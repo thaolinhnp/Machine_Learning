{
 "cells": [
  {
   "cell_type": "markdown",
   "metadata": {},
   "source": [
    "Cho dữ liệu **penbased-5an-nn.csv **  \n",
    "- **Yêu cầu 1**: Đọc dữ liệu, chuẩn hóa dữ liệu (nếu cần) và chọn một thuật toán thích hợp để thực hiện việc xác định một mẫu là loại nào (trong các loại 0, 1, 2, 3, 4, 5, 6, 7, 8, 9) dựa trên các thông tin được cung cấp.   \n",
    "    1. Tạo X_train, X_test, y_train, y_test từ dữ liệu đọc và được chuẩn hóa, với tỷ lệ dữ liệu test là 0.3   \n",
    "    2. Áp dụng thuật toán thích hợp để xây dựng model. Dựa trên cơ sở nào để cho rằng thuật toán này thích hợp?   \n",
    "    3. Đánh giá model dựa trên train/test.  \n",
    "    4. Trực quan hóa kết quả (nếu có). Đưa ra một số nhận xét dựa trên kết quả.  \n",
    "- **Yêu cầu 2**: Hãy **áp dụng thuật toán PCA và thuật toán đã chọn** ở Yêu cầu 1 để thực hiện việc xác định một mẫu là loại nào (trong các loại 0, 1, 2, 3, 4, 5, 6, 7, 8, 9) dựa trên các thông tin được cung cấp.  \n",
    "**Nhận xét kết quả giữa việc có áp dụng PCA và không áp dụng PCA.** "
   ]
  },
  {
   "cell_type": "markdown",
   "metadata": {},
   "source": [
    " **----------------------------------------------------  DATA OVERVIEW  ----------------------------------------------------------**"
   ]
  },
  {
   "cell_type": "code",
   "execution_count": 42,
   "metadata": {
    "ExecuteTime": {
     "end_time": "2019-12-09T11:02:44.277984Z",
     "start_time": "2019-12-09T11:02:44.275029Z"
    }
   },
   "outputs": [],
   "source": [
    "import warnings\n",
    "warnings.filterwarnings(\"ignore\")"
   ]
  },
  {
   "cell_type": "code",
   "execution_count": 43,
   "metadata": {
    "ExecuteTime": {
     "end_time": "2019-12-09T11:02:44.665629Z",
     "start_time": "2019-12-09T11:02:44.636494Z"
    }
   },
   "outputs": [],
   "source": [
    "import pandas as pd\n",
    "data = pd.read_csv('du lieu cung cap/penbased-5an-nn.csv', header = None)"
   ]
  },
  {
   "cell_type": "code",
   "execution_count": 44,
   "metadata": {
    "ExecuteTime": {
     "end_time": "2019-12-09T11:02:44.984146Z",
     "start_time": "2019-12-09T11:02:44.978166Z"
    }
   },
   "outputs": [
    {
     "name": "stdout",
     "output_type": "stream",
     "text": [
      "Number of rows: 10992\n",
      "Number of columns: 17\n"
     ]
    }
   ],
   "source": [
    "print('Number of rows:',data.shape[0])\n",
    "print('Number of columns:',data.shape[1])"
   ]
  },
  {
   "cell_type": "code",
   "execution_count": 45,
   "metadata": {
    "ExecuteTime": {
     "end_time": "2019-12-09T11:02:45.323369Z",
     "start_time": "2019-12-09T11:02:45.307410Z"
    }
   },
   "outputs": [
    {
     "name": "stdout",
     "output_type": "stream",
     "text": [
      "<class 'pandas.core.frame.DataFrame'>\n",
      "RangeIndex: 10992 entries, 0 to 10991\n",
      "Data columns (total 17 columns):\n",
      "0     10992 non-null int64\n",
      "1     10992 non-null int64\n",
      "2     10992 non-null int64\n",
      "3     10992 non-null int64\n",
      "4     10992 non-null int64\n",
      "5     10992 non-null int64\n",
      "6     10992 non-null int64\n",
      "7     10992 non-null int64\n",
      "8     10992 non-null int64\n",
      "9     10992 non-null int64\n",
      "10    10992 non-null int64\n",
      "11    10992 non-null int64\n",
      "12    10992 non-null int64\n",
      "13    10992 non-null int64\n",
      "14    10992 non-null int64\n",
      "15    10992 non-null int64\n",
      "16    10992 non-null int64\n",
      "dtypes: int64(17)\n",
      "memory usage: 1.4 MB\n"
     ]
    }
   ],
   "source": [
    "data.info()"
   ]
  },
  {
   "cell_type": "code",
   "execution_count": 46,
   "metadata": {
    "ExecuteTime": {
     "end_time": "2019-12-09T11:02:45.626557Z",
     "start_time": "2019-12-09T11:02:45.613562Z"
    },
    "scrolled": true
   },
   "outputs": [
    {
     "data": {
      "text/html": [
       "<div>\n",
       "<style scoped>\n",
       "    .dataframe tbody tr th:only-of-type {\n",
       "        vertical-align: middle;\n",
       "    }\n",
       "\n",
       "    .dataframe tbody tr th {\n",
       "        vertical-align: top;\n",
       "    }\n",
       "\n",
       "    .dataframe thead th {\n",
       "        text-align: right;\n",
       "    }\n",
       "</style>\n",
       "<table border=\"1\" class=\"dataframe\">\n",
       "  <thead>\n",
       "    <tr style=\"text-align: right;\">\n",
       "      <th></th>\n",
       "      <th>0</th>\n",
       "      <th>1</th>\n",
       "      <th>2</th>\n",
       "      <th>3</th>\n",
       "      <th>4</th>\n",
       "      <th>5</th>\n",
       "      <th>6</th>\n",
       "      <th>7</th>\n",
       "      <th>8</th>\n",
       "      <th>9</th>\n",
       "      <th>10</th>\n",
       "      <th>11</th>\n",
       "      <th>12</th>\n",
       "      <th>13</th>\n",
       "      <th>14</th>\n",
       "      <th>15</th>\n",
       "      <th>16</th>\n",
       "    </tr>\n",
       "  </thead>\n",
       "  <tbody>\n",
       "    <tr>\n",
       "      <th>0</th>\n",
       "      <td>0</td>\n",
       "      <td>57</td>\n",
       "      <td>31</td>\n",
       "      <td>68</td>\n",
       "      <td>72</td>\n",
       "      <td>90</td>\n",
       "      <td>100</td>\n",
       "      <td>100</td>\n",
       "      <td>76</td>\n",
       "      <td>75</td>\n",
       "      <td>50</td>\n",
       "      <td>51</td>\n",
       "      <td>28</td>\n",
       "      <td>25</td>\n",
       "      <td>16</td>\n",
       "      <td>0</td>\n",
       "      <td>1</td>\n",
       "    </tr>\n",
       "    <tr>\n",
       "      <th>1</th>\n",
       "      <td>99</td>\n",
       "      <td>80</td>\n",
       "      <td>63</td>\n",
       "      <td>100</td>\n",
       "      <td>25</td>\n",
       "      <td>76</td>\n",
       "      <td>79</td>\n",
       "      <td>68</td>\n",
       "      <td>100</td>\n",
       "      <td>62</td>\n",
       "      <td>97</td>\n",
       "      <td>23</td>\n",
       "      <td>54</td>\n",
       "      <td>0</td>\n",
       "      <td>0</td>\n",
       "      <td>16</td>\n",
       "      <td>9</td>\n",
       "    </tr>\n",
       "    <tr>\n",
       "      <th>2</th>\n",
       "      <td>0</td>\n",
       "      <td>73</td>\n",
       "      <td>19</td>\n",
       "      <td>99</td>\n",
       "      <td>72</td>\n",
       "      <td>100</td>\n",
       "      <td>70</td>\n",
       "      <td>73</td>\n",
       "      <td>32</td>\n",
       "      <td>48</td>\n",
       "      <td>5</td>\n",
       "      <td>18</td>\n",
       "      <td>46</td>\n",
       "      <td>0</td>\n",
       "      <td>100</td>\n",
       "      <td>72</td>\n",
       "      <td>2</td>\n",
       "    </tr>\n",
       "    <tr>\n",
       "      <th>3</th>\n",
       "      <td>12</td>\n",
       "      <td>77</td>\n",
       "      <td>20</td>\n",
       "      <td>62</td>\n",
       "      <td>78</td>\n",
       "      <td>40</td>\n",
       "      <td>50</td>\n",
       "      <td>0</td>\n",
       "      <td>1</td>\n",
       "      <td>17</td>\n",
       "      <td>0</td>\n",
       "      <td>64</td>\n",
       "      <td>23</td>\n",
       "      <td>98</td>\n",
       "      <td>100</td>\n",
       "      <td>100</td>\n",
       "      <td>5</td>\n",
       "    </tr>\n",
       "    <tr>\n",
       "      <th>4</th>\n",
       "      <td>0</td>\n",
       "      <td>98</td>\n",
       "      <td>36</td>\n",
       "      <td>42</td>\n",
       "      <td>80</td>\n",
       "      <td>85</td>\n",
       "      <td>68</td>\n",
       "      <td>42</td>\n",
       "      <td>56</td>\n",
       "      <td>0</td>\n",
       "      <td>25</td>\n",
       "      <td>23</td>\n",
       "      <td>50</td>\n",
       "      <td>37</td>\n",
       "      <td>100</td>\n",
       "      <td>32</td>\n",
       "      <td>7</td>\n",
       "    </tr>\n",
       "  </tbody>\n",
       "</table>\n",
       "</div>"
      ],
      "text/plain": [
       "   0   1   2    3   4    5    6    7    8   9   10  11  12  13   14   15  16\n",
       "0   0  57  31   68  72   90  100  100   76  75  50  51  28  25   16    0   1\n",
       "1  99  80  63  100  25   76   79   68  100  62  97  23  54   0    0   16   9\n",
       "2   0  73  19   99  72  100   70   73   32  48   5  18  46   0  100   72   2\n",
       "3  12  77  20   62  78   40   50    0    1  17   0  64  23  98  100  100   5\n",
       "4   0  98  36   42  80   85   68   42   56   0  25  23  50  37  100   32   7"
      ]
     },
     "execution_count": 46,
     "metadata": {},
     "output_type": "execute_result"
    }
   ],
   "source": [
    "data.head()"
   ]
  },
  {
   "cell_type": "code",
   "execution_count": 47,
   "metadata": {
    "ExecuteTime": {
     "end_time": "2019-12-09T11:02:45.988485Z",
     "start_time": "2019-12-09T11:02:45.924658Z"
    },
    "scrolled": true
   },
   "outputs": [
    {
     "data": {
      "text/html": [
       "<div>\n",
       "<style scoped>\n",
       "    .dataframe tbody tr th:only-of-type {\n",
       "        vertical-align: middle;\n",
       "    }\n",
       "\n",
       "    .dataframe tbody tr th {\n",
       "        vertical-align: top;\n",
       "    }\n",
       "\n",
       "    .dataframe thead th {\n",
       "        text-align: right;\n",
       "    }\n",
       "</style>\n",
       "<table border=\"1\" class=\"dataframe\">\n",
       "  <thead>\n",
       "    <tr style=\"text-align: right;\">\n",
       "      <th></th>\n",
       "      <th>count</th>\n",
       "      <th>mean</th>\n",
       "      <th>std</th>\n",
       "      <th>min</th>\n",
       "      <th>25%</th>\n",
       "      <th>50%</th>\n",
       "      <th>75%</th>\n",
       "      <th>max</th>\n",
       "    </tr>\n",
       "  </thead>\n",
       "  <tbody>\n",
       "    <tr>\n",
       "      <th>0</th>\n",
       "      <td>10992.0</td>\n",
       "      <td>39.505277</td>\n",
       "      <td>34.185374</td>\n",
       "      <td>0.0</td>\n",
       "      <td>7.0</td>\n",
       "      <td>33.0</td>\n",
       "      <td>66.0</td>\n",
       "      <td>100.0</td>\n",
       "    </tr>\n",
       "    <tr>\n",
       "      <th>1</th>\n",
       "      <td>10992.0</td>\n",
       "      <td>83.219159</td>\n",
       "      <td>19.044205</td>\n",
       "      <td>0.0</td>\n",
       "      <td>75.0</td>\n",
       "      <td>88.0</td>\n",
       "      <td>100.0</td>\n",
       "      <td>100.0</td>\n",
       "    </tr>\n",
       "    <tr>\n",
       "      <th>2</th>\n",
       "      <td>10992.0</td>\n",
       "      <td>41.046488</td>\n",
       "      <td>26.651870</td>\n",
       "      <td>0.0</td>\n",
       "      <td>20.0</td>\n",
       "      <td>40.0</td>\n",
       "      <td>59.0</td>\n",
       "      <td>100.0</td>\n",
       "    </tr>\n",
       "    <tr>\n",
       "      <th>3</th>\n",
       "      <td>10992.0</td>\n",
       "      <td>82.074509</td>\n",
       "      <td>21.033427</td>\n",
       "      <td>0.0</td>\n",
       "      <td>70.0</td>\n",
       "      <td>89.0</td>\n",
       "      <td>100.0</td>\n",
       "      <td>100.0</td>\n",
       "    </tr>\n",
       "    <tr>\n",
       "      <th>4</th>\n",
       "      <td>10992.0</td>\n",
       "      <td>49.764374</td>\n",
       "      <td>33.839527</td>\n",
       "      <td>0.0</td>\n",
       "      <td>18.0</td>\n",
       "      <td>53.0</td>\n",
       "      <td>78.0</td>\n",
       "      <td>100.0</td>\n",
       "    </tr>\n",
       "    <tr>\n",
       "      <th>5</th>\n",
       "      <td>10992.0</td>\n",
       "      <td>64.793031</td>\n",
       "      <td>27.323795</td>\n",
       "      <td>0.0</td>\n",
       "      <td>48.0</td>\n",
       "      <td>70.0</td>\n",
       "      <td>86.0</td>\n",
       "      <td>100.0</td>\n",
       "    </tr>\n",
       "    <tr>\n",
       "      <th>6</th>\n",
       "      <td>10992.0</td>\n",
       "      <td>51.261372</td>\n",
       "      <td>30.513046</td>\n",
       "      <td>0.0</td>\n",
       "      <td>28.0</td>\n",
       "      <td>54.0</td>\n",
       "      <td>74.0</td>\n",
       "      <td>100.0</td>\n",
       "    </tr>\n",
       "    <tr>\n",
       "      <th>7</th>\n",
       "      <td>10992.0</td>\n",
       "      <td>44.677584</td>\n",
       "      <td>29.884245</td>\n",
       "      <td>0.0</td>\n",
       "      <td>23.0</td>\n",
       "      <td>43.0</td>\n",
       "      <td>65.0</td>\n",
       "      <td>100.0</td>\n",
       "    </tr>\n",
       "    <tr>\n",
       "      <th>8</th>\n",
       "      <td>10992.0</td>\n",
       "      <td>56.449236</td>\n",
       "      <td>33.933970</td>\n",
       "      <td>0.0</td>\n",
       "      <td>28.0</td>\n",
       "      <td>59.0</td>\n",
       "      <td>88.0</td>\n",
       "      <td>100.0</td>\n",
       "    </tr>\n",
       "    <tr>\n",
       "      <th>9</th>\n",
       "      <td>10992.0</td>\n",
       "      <td>34.557041</td>\n",
       "      <td>27.598896</td>\n",
       "      <td>0.0</td>\n",
       "      <td>8.0</td>\n",
       "      <td>34.0</td>\n",
       "      <td>55.0</td>\n",
       "      <td>100.0</td>\n",
       "    </tr>\n",
       "    <tr>\n",
       "      <th>10</th>\n",
       "      <td>10992.0</td>\n",
       "      <td>60.086881</td>\n",
       "      <td>36.953507</td>\n",
       "      <td>0.0</td>\n",
       "      <td>24.0</td>\n",
       "      <td>72.0</td>\n",
       "      <td>96.0</td>\n",
       "      <td>100.0</td>\n",
       "    </tr>\n",
       "    <tr>\n",
       "      <th>11</th>\n",
       "      <td>10992.0</td>\n",
       "      <td>35.706423</td>\n",
       "      <td>27.481161</td>\n",
       "      <td>0.0</td>\n",
       "      <td>12.0</td>\n",
       "      <td>31.0</td>\n",
       "      <td>57.0</td>\n",
       "      <td>100.0</td>\n",
       "    </tr>\n",
       "    <tr>\n",
       "      <th>12</th>\n",
       "      <td>10992.0</td>\n",
       "      <td>54.602074</td>\n",
       "      <td>22.819585</td>\n",
       "      <td>0.0</td>\n",
       "      <td>41.0</td>\n",
       "      <td>53.0</td>\n",
       "      <td>68.0</td>\n",
       "      <td>100.0</td>\n",
       "    </tr>\n",
       "    <tr>\n",
       "      <th>13</th>\n",
       "      <td>10992.0</td>\n",
       "      <td>35.654021</td>\n",
       "      <td>33.126822</td>\n",
       "      <td>0.0</td>\n",
       "      <td>6.0</td>\n",
       "      <td>28.0</td>\n",
       "      <td>51.0</td>\n",
       "      <td>100.0</td>\n",
       "    </tr>\n",
       "    <tr>\n",
       "      <th>14</th>\n",
       "      <td>10992.0</td>\n",
       "      <td>47.381823</td>\n",
       "      <td>41.267376</td>\n",
       "      <td>0.0</td>\n",
       "      <td>0.0</td>\n",
       "      <td>41.0</td>\n",
       "      <td>100.0</td>\n",
       "      <td>100.0</td>\n",
       "    </tr>\n",
       "    <tr>\n",
       "      <th>15</th>\n",
       "      <td>10992.0</td>\n",
       "      <td>29.784934</td>\n",
       "      <td>35.721699</td>\n",
       "      <td>0.0</td>\n",
       "      <td>0.0</td>\n",
       "      <td>11.0</td>\n",
       "      <td>55.0</td>\n",
       "      <td>100.0</td>\n",
       "    </tr>\n",
       "    <tr>\n",
       "      <th>16</th>\n",
       "      <td>10992.0</td>\n",
       "      <td>4.431587</td>\n",
       "      <td>2.876947</td>\n",
       "      <td>0.0</td>\n",
       "      <td>2.0</td>\n",
       "      <td>4.0</td>\n",
       "      <td>7.0</td>\n",
       "      <td>9.0</td>\n",
       "    </tr>\n",
       "  </tbody>\n",
       "</table>\n",
       "</div>"
      ],
      "text/plain": [
       "      count       mean        std  min   25%   50%    75%    max\n",
       "0   10992.0  39.505277  34.185374  0.0   7.0  33.0   66.0  100.0\n",
       "1   10992.0  83.219159  19.044205  0.0  75.0  88.0  100.0  100.0\n",
       "2   10992.0  41.046488  26.651870  0.0  20.0  40.0   59.0  100.0\n",
       "3   10992.0  82.074509  21.033427  0.0  70.0  89.0  100.0  100.0\n",
       "4   10992.0  49.764374  33.839527  0.0  18.0  53.0   78.0  100.0\n",
       "5   10992.0  64.793031  27.323795  0.0  48.0  70.0   86.0  100.0\n",
       "6   10992.0  51.261372  30.513046  0.0  28.0  54.0   74.0  100.0\n",
       "7   10992.0  44.677584  29.884245  0.0  23.0  43.0   65.0  100.0\n",
       "8   10992.0  56.449236  33.933970  0.0  28.0  59.0   88.0  100.0\n",
       "9   10992.0  34.557041  27.598896  0.0   8.0  34.0   55.0  100.0\n",
       "10  10992.0  60.086881  36.953507  0.0  24.0  72.0   96.0  100.0\n",
       "11  10992.0  35.706423  27.481161  0.0  12.0  31.0   57.0  100.0\n",
       "12  10992.0  54.602074  22.819585  0.0  41.0  53.0   68.0  100.0\n",
       "13  10992.0  35.654021  33.126822  0.0   6.0  28.0   51.0  100.0\n",
       "14  10992.0  47.381823  41.267376  0.0   0.0  41.0  100.0  100.0\n",
       "15  10992.0  29.784934  35.721699  0.0   0.0  11.0   55.0  100.0\n",
       "16  10992.0   4.431587   2.876947  0.0   2.0   4.0    7.0    9.0"
      ]
     },
     "metadata": {},
     "output_type": "display_data"
    }
   ],
   "source": [
    "descrip = data.describe(include='all').transpose()\n",
    "pd.options.display.max_rows = 1000\n",
    "display(descrip)\n",
    "pd.options.display.max_rows = 15"
   ]
  },
  {
   "cell_type": "markdown",
   "metadata": {},
   "source": [
    "**1. Tạo X_train, X_test, y_train, y_test từ dữ liệu đã đọc và chuẩn hóa, với tỷ lệ dữ liệu test là 0.3**"
   ]
  },
  {
   "cell_type": "code",
   "execution_count": 48,
   "metadata": {
    "ExecuteTime": {
     "end_time": "2019-12-09T11:02:46.522756Z",
     "start_time": "2019-12-09T11:02:46.517798Z"
    }
   },
   "outputs": [
    {
     "data": {
      "text/plain": [
       "(10992, 16)"
      ]
     },
     "execution_count": 48,
     "metadata": {},
     "output_type": "execute_result"
    }
   ],
   "source": [
    "inputs = data.iloc[:,:-1]\n",
    "inputs.shape"
   ]
  },
  {
   "cell_type": "code",
   "execution_count": 49,
   "metadata": {
    "ExecuteTime": {
     "end_time": "2019-12-09T11:02:46.846220Z",
     "start_time": "2019-12-09T11:02:46.829298Z"
    }
   },
   "outputs": [
    {
     "data": {
      "text/html": [
       "<div>\n",
       "<style scoped>\n",
       "    .dataframe tbody tr th:only-of-type {\n",
       "        vertical-align: middle;\n",
       "    }\n",
       "\n",
       "    .dataframe tbody tr th {\n",
       "        vertical-align: top;\n",
       "    }\n",
       "\n",
       "    .dataframe thead th {\n",
       "        text-align: right;\n",
       "    }\n",
       "</style>\n",
       "<table border=\"1\" class=\"dataframe\">\n",
       "  <thead>\n",
       "    <tr style=\"text-align: right;\">\n",
       "      <th></th>\n",
       "      <th>0</th>\n",
       "      <th>1</th>\n",
       "      <th>2</th>\n",
       "      <th>3</th>\n",
       "      <th>4</th>\n",
       "      <th>5</th>\n",
       "      <th>6</th>\n",
       "      <th>7</th>\n",
       "      <th>8</th>\n",
       "      <th>9</th>\n",
       "      <th>10</th>\n",
       "      <th>11</th>\n",
       "      <th>12</th>\n",
       "      <th>13</th>\n",
       "      <th>14</th>\n",
       "      <th>15</th>\n",
       "    </tr>\n",
       "  </thead>\n",
       "  <tbody>\n",
       "    <tr>\n",
       "      <th>0</th>\n",
       "      <td>0</td>\n",
       "      <td>57</td>\n",
       "      <td>31</td>\n",
       "      <td>68</td>\n",
       "      <td>72</td>\n",
       "      <td>90</td>\n",
       "      <td>100</td>\n",
       "      <td>100</td>\n",
       "      <td>76</td>\n",
       "      <td>75</td>\n",
       "      <td>50</td>\n",
       "      <td>51</td>\n",
       "      <td>28</td>\n",
       "      <td>25</td>\n",
       "      <td>16</td>\n",
       "      <td>0</td>\n",
       "    </tr>\n",
       "    <tr>\n",
       "      <th>1</th>\n",
       "      <td>99</td>\n",
       "      <td>80</td>\n",
       "      <td>63</td>\n",
       "      <td>100</td>\n",
       "      <td>25</td>\n",
       "      <td>76</td>\n",
       "      <td>79</td>\n",
       "      <td>68</td>\n",
       "      <td>100</td>\n",
       "      <td>62</td>\n",
       "      <td>97</td>\n",
       "      <td>23</td>\n",
       "      <td>54</td>\n",
       "      <td>0</td>\n",
       "      <td>0</td>\n",
       "      <td>16</td>\n",
       "    </tr>\n",
       "    <tr>\n",
       "      <th>2</th>\n",
       "      <td>0</td>\n",
       "      <td>73</td>\n",
       "      <td>19</td>\n",
       "      <td>99</td>\n",
       "      <td>72</td>\n",
       "      <td>100</td>\n",
       "      <td>70</td>\n",
       "      <td>73</td>\n",
       "      <td>32</td>\n",
       "      <td>48</td>\n",
       "      <td>5</td>\n",
       "      <td>18</td>\n",
       "      <td>46</td>\n",
       "      <td>0</td>\n",
       "      <td>100</td>\n",
       "      <td>72</td>\n",
       "    </tr>\n",
       "    <tr>\n",
       "      <th>3</th>\n",
       "      <td>12</td>\n",
       "      <td>77</td>\n",
       "      <td>20</td>\n",
       "      <td>62</td>\n",
       "      <td>78</td>\n",
       "      <td>40</td>\n",
       "      <td>50</td>\n",
       "      <td>0</td>\n",
       "      <td>1</td>\n",
       "      <td>17</td>\n",
       "      <td>0</td>\n",
       "      <td>64</td>\n",
       "      <td>23</td>\n",
       "      <td>98</td>\n",
       "      <td>100</td>\n",
       "      <td>100</td>\n",
       "    </tr>\n",
       "    <tr>\n",
       "      <th>4</th>\n",
       "      <td>0</td>\n",
       "      <td>98</td>\n",
       "      <td>36</td>\n",
       "      <td>42</td>\n",
       "      <td>80</td>\n",
       "      <td>85</td>\n",
       "      <td>68</td>\n",
       "      <td>42</td>\n",
       "      <td>56</td>\n",
       "      <td>0</td>\n",
       "      <td>25</td>\n",
       "      <td>23</td>\n",
       "      <td>50</td>\n",
       "      <td>37</td>\n",
       "      <td>100</td>\n",
       "      <td>32</td>\n",
       "    </tr>\n",
       "  </tbody>\n",
       "</table>\n",
       "</div>"
      ],
      "text/plain": [
       "   0   1   2    3   4    5    6    7    8   9   10  11  12  13   14   15\n",
       "0   0  57  31   68  72   90  100  100   76  75  50  51  28  25   16    0\n",
       "1  99  80  63  100  25   76   79   68  100  62  97  23  54   0    0   16\n",
       "2   0  73  19   99  72  100   70   73   32  48   5  18  46   0  100   72\n",
       "3  12  77  20   62  78   40   50    0    1  17   0  64  23  98  100  100\n",
       "4   0  98  36   42  80   85   68   42   56   0  25  23  50  37  100   32"
      ]
     },
     "execution_count": 49,
     "metadata": {},
     "output_type": "execute_result"
    }
   ],
   "source": [
    "inputs.head()"
   ]
  },
  {
   "cell_type": "code",
   "execution_count": 50,
   "metadata": {
    "ExecuteTime": {
     "end_time": "2019-12-09T11:02:47.140219Z",
     "start_time": "2019-12-09T11:02:47.134233Z"
    }
   },
   "outputs": [
    {
     "data": {
      "text/plain": [
       "(10992,)"
      ]
     },
     "execution_count": 50,
     "metadata": {},
     "output_type": "execute_result"
    }
   ],
   "source": [
    "import numpy as np\n",
    "outputs = data[16]\n",
    "outputs = np.array(outputs)\n",
    "outputs.shape"
   ]
  },
  {
   "cell_type": "code",
   "execution_count": 51,
   "metadata": {
    "ExecuteTime": {
     "end_time": "2019-12-09T11:02:47.443727Z",
     "start_time": "2019-12-09T11:02:47.434752Z"
    }
   },
   "outputs": [],
   "source": [
    "from sklearn.model_selection import train_test_split  \n",
    "X_train, X_test, y_train, y_test = train_test_split(inputs, outputs, test_size=0.30,random_state = 42) "
   ]
  },
  {
   "cell_type": "markdown",
   "metadata": {},
   "source": [
    "Đây là bài toán Classification thuộc nhóm Supervised Learning. Output là multi-class và dữ liệu input nhiều chiều.  \n",
    "Một số model có thể dùng cho dạng bài toán này:\n",
    "    1. KNN - Classification\n",
    "    2. Decision Tree\n",
    "    3. Random Forest\n",
    "    4. CSV"
   ]
  },
  {
   "cell_type": "markdown",
   "metadata": {},
   "source": [
    " **---------------------------------------------------- 1. KNN CLASSISFICATION  ----------------------------------------------------------**"
   ]
  },
  {
   "cell_type": "code",
   "execution_count": 52,
   "metadata": {
    "ExecuteTime": {
     "end_time": "2019-12-09T11:02:48.365351Z",
     "start_time": "2019-12-09T11:02:48.361360Z"
    }
   },
   "outputs": [
    {
     "name": "stdout",
     "output_type": "stream",
     "text": [
      "2019-12-09 18:02:48.362358\n"
     ]
    }
   ],
   "source": [
    "import datetime \n",
    "x1 = datetime.datetime.now() \n",
    "print(x1)"
   ]
  },
  {
   "cell_type": "markdown",
   "metadata": {},
   "source": [
    "**Tìm best K**"
   ]
  },
  {
   "cell_type": "code",
   "execution_count": 53,
   "metadata": {
    "ExecuteTime": {
     "end_time": "2019-12-09T11:03:42.064259Z",
     "start_time": "2019-12-09T11:02:48.970215Z"
    },
    "scrolled": true
   },
   "outputs": [
    {
     "name": "stdout",
     "output_type": "stream",
     "text": [
      "Accuracy is  96.45239539114615 % for K-Value: 1\n",
      "Accuracy is  95.57307459066101 % for K-Value: 2\n",
      "Accuracy is  96.54335961188599 % for K-Value: 3\n",
      "Accuracy is  96.45239539114615 % for K-Value: 4\n",
      "Accuracy is  96.54335961188599 % for K-Value: 5\n",
      "Accuracy is  96.48271679805943 % for K-Value: 6\n",
      "Accuracy is  96.45239539114615 % for K-Value: 7\n",
      "Accuracy is  96.17950272892662 % for K-Value: 8\n",
      "Accuracy is  96.24014554275318 % for K-Value: 9\n",
      "Accuracy is  96.0582171012735 % for K-Value: 10\n",
      "Accuracy is  96.14918132201335 % for K-Value: 11\n",
      "Accuracy is  96.0582171012735 % for K-Value: 12\n",
      "Accuracy is  96.08853850818679 % for K-Value: 13\n",
      "Accuracy is  96.08853850818679 % for K-Value: 14\n",
      "Accuracy is  95.87628865979381 % for K-Value: 15\n",
      "Accuracy is  96.02789569436023 % for K-Value: 16\n",
      "Accuracy is  95.66403881140086 % for K-Value: 17\n",
      "Accuracy is  95.75500303214069 % for K-Value: 18\n",
      "Accuracy is  95.57307459066101 % for K-Value: 19\n",
      "Accuracy is  95.72468162522742 % for K-Value: 20\n",
      "Accuracy is  95.57307459066101 % for K-Value: 21\n",
      "Accuracy is  95.45178896300789 % for K-Value: 22\n",
      "Accuracy is  95.45178896300789 % for K-Value: 23\n",
      "Accuracy is  95.33050333535476 % for K-Value: 24\n",
      "Accuracy is  95.30018192844148 % for K-Value: 25\n",
      "Accuracy is  95.23953911461491 % for K-Value: 26\n",
      "Accuracy is  95.17889630078835 % for K-Value: 27\n",
      "Accuracy is  95.05761067313523 % for K-Value: 28\n",
      "Accuracy is  95.0879320800485 % for K-Value: 29\n",
      "Accuracy is  94.84536082474226 % for K-Value: 30\n",
      "Accuracy is  94.7847180109157 % for K-Value: 31\n",
      "Accuracy is  94.69375379017586 % for K-Value: 32\n",
      "Accuracy is  94.60278956943601 % for K-Value: 33\n",
      "Accuracy is  94.6331109763493 % for K-Value: 34\n",
      "Accuracy is  94.51182534869618 % for K-Value: 35\n",
      "Accuracy is  94.51182534869618 % for K-Value: 36\n",
      "Accuracy is  94.45118253486962 % for K-Value: 37\n",
      "Accuracy is  94.39053972104306 % for K-Value: 38\n",
      "Accuracy is  94.23893268647664 % for K-Value: 39\n",
      "Accuracy is  94.17828987265008 % for K-Value: 40\n",
      "Accuracy is  94.11764705882352 % for K-Value: 41\n",
      "Accuracy is  94.11764705882352 % for K-Value: 42\n",
      "Accuracy is  94.02668283808369 % for K-Value: 43\n",
      "Accuracy is  93.90539721043056 % for K-Value: 44\n",
      "Accuracy is  93.90539721043056 % for K-Value: 45\n",
      "Accuracy is  93.66282595512432 % for K-Value: 46\n",
      "Accuracy is  93.66282595512432 % for K-Value: 47\n",
      "Accuracy is  93.51121892055791 % for K-Value: 48\n",
      "Accuracy is  93.32929047907822 % for K-Value: 49\n",
      "Accuracy is  93.23832625833839 % for K-Value: 50\n",
      "Accuracy is  93.14736203759854 % for K-Value: 51\n",
      "Accuracy is  93.11704063068527 % for K-Value: 52\n",
      "Accuracy is  93.14736203759854 % for K-Value: 53\n",
      "Accuracy is  93.17768344451183 % for K-Value: 54\n",
      "Accuracy is  93.02607640994542 % for K-Value: 55\n",
      "Accuracy is  93.14736203759854 % for K-Value: 56\n",
      "Accuracy is  92.96543359611886 % for K-Value: 57\n",
      "Accuracy is  92.96543359611886 % for K-Value: 58\n",
      "Accuracy is  92.78350515463917 % for K-Value: 59\n",
      "Accuracy is  92.87446937537902 % for K-Value: 60\n",
      "Accuracy is  92.72286234081261 % for K-Value: 61\n",
      "Accuracy is  92.69254093389934 % for K-Value: 62\n",
      "Accuracy is  92.69254093389934 % for K-Value: 63\n",
      "Accuracy is  92.60157671315949 % for K-Value: 64\n",
      "Accuracy is  92.51061249241965 % for K-Value: 65\n",
      "Accuracy is  92.44996967859309 % for K-Value: 66\n",
      "Accuracy is  92.38932686476653 % for K-Value: 67\n",
      "Accuracy is  92.4196482716798 % for K-Value: 68\n",
      "Accuracy is  92.29836264402668 % for K-Value: 69\n",
      "Accuracy is  92.29836264402668 % for K-Value: 70\n",
      "Accuracy is  92.35900545785324 % for K-Value: 71\n",
      "Accuracy is  92.29836264402668 % for K-Value: 72\n",
      "Accuracy is  92.116434202547 % for K-Value: 73\n",
      "Accuracy is  92.116434202547 % for K-Value: 74\n",
      "Accuracy is  92.05579138872044 % for K-Value: 75\n",
      "Accuracy is  92.08611279563371 % for K-Value: 76\n",
      "Accuracy is  92.23771983020012 % for K-Value: 77\n",
      "Accuracy is  92.14675560946027 % for K-Value: 78\n",
      "Accuracy is  92.02546998180715 % for K-Value: 79\n",
      "Accuracy is  91.90418435415403 % for K-Value: 80\n",
      "Accuracy is  91.93450576106731 % for K-Value: 81\n",
      "Accuracy is  91.90418435415403 % for K-Value: 82\n",
      "Accuracy is  91.75257731958763 % for K-Value: 83\n",
      "Accuracy is  91.75257731958763 % for K-Value: 84\n",
      "Accuracy is  91.66161309884778 % for K-Value: 85\n",
      "Accuracy is  91.69193450576107 % for K-Value: 86\n"
     ]
    }
   ],
   "source": [
    "from sklearn.metrics import accuracy_score\n",
    "from sklearn.neighbors import KNeighborsClassifier\n",
    "list_k = []\n",
    "list_acc = []\n",
    "for K_value in range(1,int(y_train.shape[0]**0.5)):        \n",
    "    list_k.append(K_value)\n",
    "    neigh = KNeighborsClassifier(n_neighbors = K_value)\n",
    "    neigh.fit(X_train, y_train) \n",
    "    y_pred = neigh.predict(X_test)\n",
    "    acc = accuracy_score(y_test,y_pred)*100 \n",
    "    list_acc.append(acc)\n",
    "    print(\"Accuracy is \", accuracy_score(y_test,y_pred)*100,\"% for K-Value:\",K_value)\n",
    "    "
   ]
  },
  {
   "cell_type": "code",
   "execution_count": 54,
   "metadata": {
    "ExecuteTime": {
     "end_time": "2019-12-09T11:03:42.175163Z",
     "start_time": "2019-12-09T11:03:42.065274Z"
    }
   },
   "outputs": [
    {
     "data": {
      "image/png": "[encoded data removed]",
      "text/plain": [
       "<Figure size 432x288 with 1 Axes>"
      ]
     },
     "metadata": {},
     "output_type": "display_data"
    }
   ],
   "source": [
    "import matplotlib.pyplot as plt\n",
    "plt.plot(list_k, list_acc)\n",
    "plt.xlabel('Number of Neighbors K')\n",
    "plt.ylabel('Test Accuracy')\n",
    "plt.show()"
   ]
  },
  {
   "cell_type": "code",
   "execution_count": 55,
   "metadata": {
    "ExecuteTime": {
     "end_time": "2019-12-09T11:03:42.180154Z",
     "start_time": "2019-12-09T11:03:42.176195Z"
    }
   },
   "outputs": [
    {
     "name": "stdout",
     "output_type": "stream",
     "text": [
      "The optimal number of neighbors is 3 with 96.54335961188599\n"
     ]
    }
   ],
   "source": [
    "vi_tri = list_acc.index(max(list_acc))\n",
    "k = list_k[vi_tri]\n",
    "print(\"The optimal number of neighbors is\", k,\"with\", list_acc[vi_tri])"
   ]
  },
  {
   "cell_type": "code",
   "execution_count": 56,
   "metadata": {
    "ExecuteTime": {
     "end_time": "2019-12-09T11:03:42.229101Z",
     "start_time": "2019-12-09T11:03:42.182147Z"
    }
   },
   "outputs": [
    {
     "data": {
      "text/plain": [
       "KNeighborsClassifier(algorithm='auto', leaf_size=30, metric='minkowski',\n",
       "                     metric_params=None, n_jobs=None, n_neighbors=3, p=2,\n",
       "                     weights='uniform')"
      ]
     },
     "execution_count": 56,
     "metadata": {},
     "output_type": "execute_result"
    }
   ],
   "source": [
    "# select k => ap dung model\n",
    "knn = KNeighborsClassifier(n_neighbors=k)\n",
    "knn.fit(X_train, y_train)"
   ]
  },
  {
   "cell_type": "code",
   "execution_count": 57,
   "metadata": {
    "ExecuteTime": {
     "end_time": "2019-12-09T11:03:42.540476Z",
     "start_time": "2019-12-09T11:03:42.230129Z"
    }
   },
   "outputs": [],
   "source": [
    "y_pred = knn.predict(X_test)"
   ]
  },
  {
   "cell_type": "code",
   "execution_count": 58,
   "metadata": {
    "ExecuteTime": {
     "end_time": "2019-12-09T11:03:43.482759Z",
     "start_time": "2019-12-09T11:03:42.541513Z"
    }
   },
   "outputs": [
    {
     "name": "stdout",
     "output_type": "stream",
     "text": [
      "The Train prediction accuracy is:  97.9334546399792 %\n",
      "The Test prediction accuracy is:  96.54335961188599 %\n"
     ]
    }
   ],
   "source": [
    "# Kiểm tra độ chính xác\n",
    "print(\"The Train prediction accuracy is: \", \n",
    "      knn.score(X_train,y_train)*100,\"%\")\n",
    "print(\"The Test prediction accuracy is: \", \n",
    "      knn.score(X_test,y_test)*100,\"%\")"
   ]
  },
  {
   "cell_type": "code",
   "execution_count": 59,
   "metadata": {
    "ExecuteTime": {
     "end_time": "2019-12-09T11:03:43.488771Z",
     "start_time": "2019-12-09T11:03:43.483751Z"
    }
   },
   "outputs": [
    {
     "name": "stdout",
     "output_type": "stream",
     "text": [
      "0:00:55.123390\n"
     ]
    }
   ],
   "source": [
    "x2 = datetime.datetime.now() \n",
    "print(x2-x1)"
   ]
  },
  {
   "cell_type": "markdown",
   "metadata": {},
   "source": [
    " **------------------------------------------------------ End - KNN -------------------------------------------------------**"
   ]
  },
  {
   "cell_type": "markdown",
   "metadata": {},
   "source": [
    " **---------------------------------------------------- 2. DECISIONTREE CLASSIFIER  ----------------------------------------------------------**"
   ]
  },
  {
   "cell_type": "code",
   "execution_count": 60,
   "metadata": {
    "ExecuteTime": {
     "end_time": "2019-12-09T11:03:43.497715Z",
     "start_time": "2019-12-09T11:03:43.490766Z"
    }
   },
   "outputs": [
    {
     "name": "stdout",
     "output_type": "stream",
     "text": [
      "2019-12-09 18:03:43.493725\n"
     ]
    }
   ],
   "source": [
    "x1 = datetime.datetime.now() \n",
    "print(x1)"
   ]
  },
  {
   "cell_type": "code",
   "execution_count": 61,
   "metadata": {
    "ExecuteTime": {
     "end_time": "2019-12-09T11:03:43.504697Z",
     "start_time": "2019-12-09T11:03:43.498713Z"
    }
   },
   "outputs": [],
   "source": [
    "from sklearn.tree import DecisionTreeClassifier"
   ]
  },
  {
   "cell_type": "code",
   "execution_count": 62,
   "metadata": {
    "ExecuteTime": {
     "end_time": "2019-12-09T11:03:43.579557Z",
     "start_time": "2019-12-09T11:03:43.506694Z"
    }
   },
   "outputs": [],
   "source": [
    "clf = DecisionTreeClassifier(criterion='entropy') # nen dung Gini vi day la thuoc tinh lien tuc\n",
    "tree_model = clf.fit(X_train, y_train)"
   ]
  },
  {
   "cell_type": "code",
   "execution_count": 63,
   "metadata": {
    "ExecuteTime": {
     "end_time": "2019-12-09T11:03:43.591464Z",
     "start_time": "2019-12-09T11:03:43.580513Z"
    }
   },
   "outputs": [
    {
     "name": "stdout",
     "output_type": "stream",
     "text": [
      "The Train prediction accuracy is:  100.0 %\n",
      "The Test prediction accuracy is:  90.14554275318375 %\n"
     ]
    }
   ],
   "source": [
    "# Kiểm tra độ chính xác\n",
    "print(\"The Train prediction accuracy is: \", tree_model.score(X_train, y_train)*100,\"%\")\n",
    "print(\"The Test prediction accuracy is: \", tree_model.score(X_test, y_test)*100,\"%\")"
   ]
  },
  {
   "cell_type": "code",
   "execution_count": 64,
   "metadata": {
    "ExecuteTime": {
     "end_time": "2019-12-09T11:03:43.598484Z",
     "start_time": "2019-12-09T11:03:43.594457Z"
    }
   },
   "outputs": [
    {
     "name": "stdout",
     "output_type": "stream",
     "text": [
      "0:00:00.101729\n"
     ]
    }
   ],
   "source": [
    "x2 = datetime.datetime.now() \n",
    "print(x2-x1)"
   ]
  },
  {
   "cell_type": "markdown",
   "metadata": {},
   "source": [
    " **------------------------------------------------------ End - Decision Tree -------------------------------------------------------**"
   ]
  },
  {
   "cell_type": "markdown",
   "metadata": {},
   "source": [
    " **---------------------------------------------------- 3. RANDOM FOREST  ----------------------------------------------------------**"
   ]
  },
  {
   "cell_type": "code",
   "execution_count": 65,
   "metadata": {
    "ExecuteTime": {
     "end_time": "2019-12-09T11:03:43.607421Z",
     "start_time": "2019-12-09T11:03:43.600441Z"
    }
   },
   "outputs": [
    {
     "name": "stdout",
     "output_type": "stream",
     "text": [
      "2019-12-09 18:03:43.604432\n"
     ]
    }
   ],
   "source": [
    "x1 = datetime.datetime.now() \n",
    "print(x1)"
   ]
  },
  {
   "cell_type": "markdown",
   "metadata": {},
   "source": [
    "**Chọn số lượng cây n_estimators phù hợp**"
   ]
  },
  {
   "cell_type": "code",
   "execution_count": 66,
   "metadata": {
    "ExecuteTime": {
     "end_time": "2019-12-09T11:04:00.134378Z",
     "start_time": "2019-12-09T11:03:43.609451Z"
    }
   },
   "outputs": [
    {
     "name": "stdout",
     "output_type": "stream",
     "text": [
      "Accuracy is  96.48271679805943 % for n_estimators: 10\n",
      "Accuracy is  97.54396604002426 % for n_estimators: 30\n",
      "Accuracy is  97.1497877501516 % for n_estimators: 50\n",
      "Accuracy is  98.08975136446331 % for n_estimators: 70\n",
      "Accuracy is  97.6349302607641 % for n_estimators: 100\n",
      "Accuracy is  97.75621588841722 % for n_estimators: 120\n",
      "Accuracy is  97.6349302607641 % for n_estimators: 150\n",
      "Accuracy is  98.2413583990297 % for n_estimators: 170\n",
      "Accuracy is  97.90782292298363 % for n_estimators: 200\n",
      "Accuracy is  97.7865372953305 % for n_estimators: 250\n",
      "Accuracy is  97.87750151607034 % for n_estimators: 300\n"
     ]
    }
   ],
   "source": [
    "from sklearn.ensemble import RandomForestClassifier\n",
    "list_n = []\n",
    "list_acc = []\n",
    "for n_estimators in [10, 30, 50, 70, 100, 120, 150, 170, 200, 250, 300]:        \n",
    "    list_n.append(n_estimators)\n",
    "    clf = RandomForestClassifier(n_estimators = n_estimators)\n",
    "    forest_model = clf.fit(X_train, y_train)\n",
    "    y_pred = forest_model.predict(X_test)\n",
    "    acc = accuracy_score(y_test,y_pred)*100 \n",
    "    list_acc.append(acc)\n",
    "    print(\"Accuracy is \", accuracy_score(y_test,y_pred)*100,\"% for n_estimators:\",n_estimators)\n",
    "    "
   ]
  },
  {
   "cell_type": "code",
   "execution_count": 67,
   "metadata": {
    "ExecuteTime": {
     "end_time": "2019-12-09T11:04:00.268024Z",
     "start_time": "2019-12-09T11:04:00.135375Z"
    },
    "scrolled": true
   },
   "outputs": [
    {
     "data": {
      "image/png": "[encoded data removed]",
      "text/plain": [
       "<Figure size 432x288 with 1 Axes>"
      ]
     },
     "metadata": {},
     "output_type": "display_data"
    }
   ],
   "source": [
    "import matplotlib.pyplot as plt\n",
    "plt.plot(list_n, list_acc)\n",
    "plt.xlabel('n_estimators')\n",
    "plt.ylabel('Test Accuracy')\n",
    "plt.show()"
   ]
  },
  {
   "cell_type": "code",
   "execution_count": 68,
   "metadata": {
    "ExecuteTime": {
     "end_time": "2019-12-09T11:04:00.274007Z",
     "start_time": "2019-12-09T11:04:00.270052Z"
    }
   },
   "outputs": [
    {
     "name": "stdout",
     "output_type": "stream",
     "text": [
      "The optimal n_estimators is 170 with 98.2413583990297\n"
     ]
    }
   ],
   "source": [
    "vi_tri = list_acc.index(max(list_acc))\n",
    "n = list_n[vi_tri]\n",
    "print(\"The optimal n_estimators is\", n,\"with\", list_acc[vi_tri])"
   ]
  },
  {
   "cell_type": "code",
   "execution_count": 69,
   "metadata": {
    "ExecuteTime": {
     "end_time": "2019-12-09T11:04:02.135625Z",
     "start_time": "2019-12-09T11:04:00.276001Z"
    }
   },
   "outputs": [],
   "source": [
    "clf = RandomForestClassifier(n_estimators = n)\n",
    "forest_model = clf.fit(X_train, y_train)"
   ]
  },
  {
   "cell_type": "code",
   "execution_count": 70,
   "metadata": {
    "ExecuteTime": {
     "end_time": "2019-12-09T11:04:02.239542Z",
     "start_time": "2019-12-09T11:04:02.135625Z"
    }
   },
   "outputs": [],
   "source": [
    "y_pred = forest_model.predict(X_test)"
   ]
  },
  {
   "cell_type": "code",
   "execution_count": 71,
   "metadata": {
    "ExecuteTime": {
     "end_time": "2019-12-09T11:04:02.580722Z",
     "start_time": "2019-12-09T11:04:02.240540Z"
    }
   },
   "outputs": [
    {
     "name": "stdout",
     "output_type": "stream",
     "text": [
      "The Training prediction accuracy is:  100.0 %\n",
      "The Testing prediction accuracy is:  97.84718010915707 %\n"
     ]
    }
   ],
   "source": [
    "# Kiểm tra độ chính xác\n",
    "print(\"The Training prediction accuracy is: \",\n",
    "      forest_model.score(X_train,y_train)*100,\"%\")\n",
    "print(\"The Testing prediction accuracy is: \",\n",
    "      forest_model.score(X_test,y_test)*100,\"%\")"
   ]
  },
  {
   "cell_type": "code",
   "execution_count": 72,
   "metadata": {
    "ExecuteTime": {
     "end_time": "2019-12-09T11:04:02.586707Z",
     "start_time": "2019-12-09T11:04:02.581721Z"
    }
   },
   "outputs": [
    {
     "name": "stdout",
     "output_type": "stream",
     "text": [
      "0:00:18.978285\n"
     ]
    }
   ],
   "source": [
    "x2 = datetime.datetime.now() \n",
    "print(x2-x1)"
   ]
  },
  {
   "cell_type": "markdown",
   "metadata": {},
   "source": [
    " **------------------------------------------------------ End - Random Forest -------------------------------------------------------**"
   ]
  },
  {
   "cell_type": "markdown",
   "metadata": {},
   "source": [
    " **------------------------------------------------------ 4. SVC -------------------------------------------------------**"
   ]
  },
  {
   "cell_type": "code",
   "execution_count": 73,
   "metadata": {
    "ExecuteTime": {
     "end_time": "2019-12-09T11:04:02.596680Z",
     "start_time": "2019-12-09T11:04:02.589703Z"
    }
   },
   "outputs": [
    {
     "name": "stdout",
     "output_type": "stream",
     "text": [
      "2019-12-09 18:04:02.593689\n"
     ]
    }
   ],
   "source": [
    "x1 = datetime.datetime.now() \n",
    "print(x1)"
   ]
  },
  {
   "cell_type": "code",
   "execution_count": 74,
   "metadata": {
    "ExecuteTime": {
     "end_time": "2019-12-09T11:04:02.604659Z",
     "start_time": "2019-12-09T11:04:02.598674Z"
    }
   },
   "outputs": [],
   "source": [
    "from sklearn import svm \n",
    "clf = svm.SVC(gamma=0.001, C=100) # các tham số cho mô hình hoạt động tốt hơn"
   ]
  },
  {
   "cell_type": "code",
   "execution_count": 75,
   "metadata": {
    "ExecuteTime": {
     "end_time": "2019-12-09T11:04:06.430580Z",
     "start_time": "2019-12-09T11:04:02.607658Z"
    }
   },
   "outputs": [
    {
     "data": {
      "text/plain": [
       "SVC(C=100, break_ties=False, cache_size=200, class_weight=None, coef0=0.0,\n",
       "    decision_function_shape='ovr', degree=3, gamma=0.001, kernel='rbf',\n",
       "    max_iter=-1, probability=False, random_state=None, shrinking=True,\n",
       "    tol=0.001, verbose=False)"
      ]
     },
     "execution_count": 75,
     "metadata": {},
     "output_type": "execute_result"
    }
   ],
   "source": [
    "clf.fit(X_train,y_train)"
   ]
  },
  {
   "cell_type": "code",
   "execution_count": 76,
   "metadata": {
    "ExecuteTime": {
     "end_time": "2019-12-09T11:04:06.998953Z",
     "start_time": "2019-12-09T11:04:06.431580Z"
    }
   },
   "outputs": [
    {
     "data": {
      "text/plain": [
       "array([8, 1, 2, ..., 4, 5, 2], dtype=int64)"
      ]
     },
     "execution_count": 76,
     "metadata": {},
     "output_type": "execute_result"
    }
   ],
   "source": [
    "y_pred = clf.predict(X_test) \n",
    "y_pred"
   ]
  },
  {
   "cell_type": "code",
   "execution_count": 77,
   "metadata": {
    "ExecuteTime": {
     "end_time": "2019-12-09T11:04:07.005936Z",
     "start_time": "2019-12-09T11:04:06.999949Z"
    }
   },
   "outputs": [
    {
     "name": "stdout",
     "output_type": "stream",
     "text": [
      "Accuracy is  88.50818677986658 %\n"
     ]
    }
   ],
   "source": [
    "from sklearn.metrics import accuracy_score \n",
    "print(\"Accuracy is \", accuracy_score(y_test,y_pred)*100,\"%\")"
   ]
  },
  {
   "cell_type": "code",
   "execution_count": 78,
   "metadata": {
    "ExecuteTime": {
     "end_time": "2019-12-09T11:04:08.892842Z",
     "start_time": "2019-12-09T11:04:07.007928Z"
    }
   },
   "outputs": [
    {
     "name": "stdout",
     "output_type": "stream",
     "text": [
      "The Train prediction accuracy is:  100.0 %\n",
      "The Test prediction accuracy is:  88.50818677986658 %\n"
     ]
    }
   ],
   "source": [
    "# Kiểm tra độ chính xác\n",
    "print(\"The Train prediction accuracy is: \", \n",
    "      clf.score(X_train,y_train)*100,\"%\")\n",
    "print(\"The Test prediction accuracy is: \", \n",
    "      clf.score(X_test,y_test)*100,\"%\")"
   ]
  },
  {
   "cell_type": "code",
   "execution_count": 79,
   "metadata": {
    "ExecuteTime": {
     "end_time": "2019-12-09T11:04:08.901818Z",
     "start_time": "2019-12-09T11:04:08.895833Z"
    }
   },
   "outputs": [
    {
     "name": "stdout",
     "output_type": "stream",
     "text": [
      "0:00:06.304137\n"
     ]
    }
   ],
   "source": [
    "x2 = datetime.datetime.now() \n",
    "print(x2-x1)"
   ]
  },
  {
   "cell_type": "markdown",
   "metadata": {},
   "source": [
    " **------------------------------------------------------ End - SVC -------------------------------------------------------**"
   ]
  },
  {
   "cell_type": "markdown",
   "metadata": {},
   "source": [
    "**NHẬN XÉT: Trong cả 4 model thì KNN cho ra kết quả predict tốt nhất mà không bị overfitting**"
   ]
  },
  {
   "cell_type": "markdown",
   "metadata": {},
   "source": [
    "**Yêu cầu 2: Hãy áp dụng thuật toán PCA và thuật toán đã chọn ở Yêu cầu 1 để thực hiện việc xác định một mẫu là loại nào (trong các loại 0, 1, 2, 3, 4, 5, 6, 7, 8, 9) dựa trên các thông tin được cung cấp.\n",
    "Nhận xét kết quả giữa việc có áp dụng PCA và không áp dụng PCA.**"
   ]
  },
  {
   "cell_type": "markdown",
   "metadata": {},
   "source": [
    "Thời gian chạy của cái model:\n",
    "1. KNN: 1 phút\n",
    "2. Decision Tree: 0 giây\n",
    "3. Random Forest: 18 giây\n",
    "4. SVC: 6 giây"
   ]
  },
  {
   "cell_type": "code",
   "execution_count": 82,
   "metadata": {
    "ExecuteTime": {
     "end_time": "2019-12-09T11:10:58.872831Z",
     "start_time": "2019-12-09T11:10:58.860863Z"
    }
   },
   "outputs": [],
   "source": [
    "from sklearn.preprocessing import StandardScaler \n",
    "scaler = StandardScaler()\n",
    " \n",
    "# Fit on training set only. \n",
    "scaler.fit(X_train)\n",
    " \n",
    "# Apply transform to both the training set and the test set. \n",
    "X_train_s = scaler.transform(X_train) \n",
    "X_test_s = scaler.transform(X_test)"
   ]
  },
  {
   "cell_type": "code",
   "execution_count": 83,
   "metadata": {
    "ExecuteTime": {
     "end_time": "2019-12-09T11:11:00.260666Z",
     "start_time": "2019-12-09T11:11:00.187299Z"
    }
   },
   "outputs": [
    {
     "data": {
      "text/plain": [
       "PCA(copy=True, iterated_power='auto', n_components=0.95, random_state=None,\n",
       "    svd_solver='auto', tol=0.0, whiten=False)"
      ]
     },
     "execution_count": 83,
     "metadata": {},
     "output_type": "execute_result"
    }
   ],
   "source": [
    "from sklearn.decomposition import PCA\n",
    "# Make an instance of the Model \n",
    "pca = PCA(.95)\n",
    "\n",
    "# Fit PCA on training set. Note: you are fitting PCA on the training set only \n",
    "pca.fit(X_train_s)"
   ]
  },
  {
   "cell_type": "code",
   "execution_count": 84,
   "metadata": {
    "ExecuteTime": {
     "end_time": "2019-12-09T11:11:16.112599Z",
     "start_time": "2019-12-09T11:11:16.107615Z"
    }
   },
   "outputs": [
    {
     "data": {
      "text/plain": [
       "11"
      ]
     },
     "execution_count": 84,
     "metadata": {},
     "output_type": "execute_result"
    }
   ],
   "source": [
    "pca.n_components_"
   ]
  },
  {
   "cell_type": "code",
   "execution_count": 88,
   "metadata": {
    "ExecuteTime": {
     "end_time": "2019-12-09T11:13:06.744352Z",
     "start_time": "2019-12-09T11:13:06.736377Z"
    }
   },
   "outputs": [],
   "source": [
    "# Apply the mapping (transform) to both the training set and the test set. \n",
    "X_train_s = pca.transform(X_train_s)\n",
    "X_test_s = pca.transform(X_test_s)"
   ]
  },
  {
   "cell_type": "code",
   "execution_count": 89,
   "metadata": {
    "ExecuteTime": {
     "end_time": "2019-12-09T11:15:04.916207Z",
     "start_time": "2019-12-09T11:15:04.913243Z"
    }
   },
   "outputs": [
    {
     "name": "stdout",
     "output_type": "stream",
     "text": [
      "2019-12-09 18:15:04.914240\n"
     ]
    }
   ],
   "source": [
    "import datetime \n",
    "x1 = datetime.datetime.now() \n",
    "print(x1)"
   ]
  },
  {
   "cell_type": "markdown",
   "metadata": {},
   "source": [
    "**Tìm best K**"
   ]
  },
  {
   "cell_type": "code",
   "execution_count": 90,
   "metadata": {
    "ExecuteTime": {
     "end_time": "2019-12-09T11:15:32.455334Z",
     "start_time": "2019-12-09T11:15:06.451939Z"
    },
    "scrolled": true
   },
   "outputs": [
    {
     "name": "stdout",
     "output_type": "stream",
     "text": [
      "Accuracy is  94.87568223165555 % for K-Value: 1\n",
      "Accuracy is  94.72407519708914 % for K-Value: 2\n",
      "Accuracy is  95.66403881140086 % for K-Value: 3\n",
      "Accuracy is  95.54275318374773 % for K-Value: 4\n",
      "Accuracy is  95.66403881140086 % for K-Value: 5\n",
      "Accuracy is  95.66403881140086 % for K-Value: 6\n",
      "Accuracy is  95.72468162522742 % for K-Value: 7\n",
      "Accuracy is  95.51243177683445 % for K-Value: 8\n",
      "Accuracy is  95.51243177683445 % for K-Value: 9\n",
      "Accuracy is  95.6033959975743 % for K-Value: 10\n",
      "Accuracy is  95.63371740448757 % for K-Value: 11\n",
      "Accuracy is  95.69436021831413 % for K-Value: 12\n",
      "Accuracy is  95.45178896300789 % for K-Value: 13\n",
      "Accuracy is  95.42146755609461 % for K-Value: 14\n",
      "Accuracy is  95.45178896300789 % for K-Value: 15\n",
      "Accuracy is  95.30018192844148 % for K-Value: 16\n",
      "Accuracy is  95.36082474226805 % for K-Value: 17\n",
      "Accuracy is  95.39114614918132 % for K-Value: 18\n",
      "Accuracy is  95.30018192844148 % for K-Value: 19\n",
      "Accuracy is  95.26986052152819 % for K-Value: 20\n",
      "Accuracy is  95.20921770770163 % for K-Value: 21\n",
      "Accuracy is  95.17889630078835 % for K-Value: 22\n",
      "Accuracy is  95.11825348696179 % for K-Value: 23\n",
      "Accuracy is  95.0879320800485 % for K-Value: 24\n",
      "Accuracy is  94.96664645239538 % for K-Value: 25\n",
      "Accuracy is  95.05761067313523 % for K-Value: 26\n",
      "Accuracy is  94.87568223165555 % for K-Value: 27\n",
      "Accuracy is  94.87568223165555 % for K-Value: 28\n",
      "Accuracy is  94.81503941782898 % for K-Value: 29\n",
      "Accuracy is  94.75439660400242 % for K-Value: 30\n",
      "Accuracy is  94.7847180109157 % for K-Value: 31\n",
      "Accuracy is  94.90600363856882 % for K-Value: 32\n",
      "Accuracy is  94.60278956943601 % for K-Value: 33\n",
      "Accuracy is  94.54214675560945 % for K-Value: 34\n",
      "Accuracy is  94.57246816252274 % for K-Value: 35\n",
      "Accuracy is  94.54214675560945 % for K-Value: 36\n",
      "Accuracy is  94.57246816252274 % for K-Value: 37\n",
      "Accuracy is  94.51182534869618 % for K-Value: 38\n",
      "Accuracy is  94.3298969072165 % for K-Value: 39\n",
      "Accuracy is  94.39053972104306 % for K-Value: 40\n",
      "Accuracy is  94.3298969072165 % for K-Value: 41\n",
      "Accuracy is  94.20861127956337 % for K-Value: 42\n",
      "Accuracy is  94.14796846573681 % for K-Value: 43\n",
      "Accuracy is  94.11764705882352 % for K-Value: 44\n",
      "Accuracy is  94.11764705882352 % for K-Value: 45\n",
      "Accuracy is  94.14796846573681 % for K-Value: 46\n",
      "Accuracy is  94.05700424499696 % for K-Value: 47\n",
      "Accuracy is  94.05700424499696 % for K-Value: 48\n",
      "Accuracy is  94.05700424499696 % for K-Value: 49\n",
      "Accuracy is  93.93571861734384 % for K-Value: 50\n",
      "Accuracy is  93.87507580351728 % for K-Value: 51\n",
      "Accuracy is  93.75379017586415 % for K-Value: 52\n",
      "Accuracy is  93.60218314129776 % for K-Value: 53\n",
      "Accuracy is  93.63250454821103 % for K-Value: 54\n",
      "Accuracy is  93.5415403274712 % for K-Value: 55\n",
      "Accuracy is  93.51121892055791 % for K-Value: 56\n",
      "Accuracy is  93.51121892055791 % for K-Value: 57\n",
      "Accuracy is  93.51121892055791 % for K-Value: 58\n",
      "Accuracy is  93.32929047907822 % for K-Value: 59\n",
      "Accuracy is  93.26864766525166 % for K-Value: 60\n",
      "Accuracy is  93.11704063068527 % for K-Value: 61\n",
      "Accuracy is  93.11704063068527 % for K-Value: 62\n",
      "Accuracy is  93.08671922377198 % for K-Value: 63\n",
      "Accuracy is  93.0563978168587 % for K-Value: 64\n",
      "Accuracy is  93.0563978168587 % for K-Value: 65\n",
      "Accuracy is  92.87446937537902 % for K-Value: 66\n",
      "Accuracy is  92.87446937537902 % for K-Value: 67\n",
      "Accuracy is  92.81382656155246 % for K-Value: 68\n",
      "Accuracy is  92.87446937537902 % for K-Value: 69\n",
      "Accuracy is  92.78350515463917 % for K-Value: 70\n",
      "Accuracy is  92.63189812007278 % for K-Value: 71\n",
      "Accuracy is  92.4196482716798 % for K-Value: 72\n",
      "Accuracy is  92.4196482716798 % for K-Value: 73\n",
      "Accuracy is  92.38932686476653 % for K-Value: 74\n",
      "Accuracy is  92.29836264402668 % for K-Value: 75\n",
      "Accuracy is  92.20739842328685 % for K-Value: 76\n",
      "Accuracy is  92.14675560946027 % for K-Value: 77\n",
      "Accuracy is  92.17707701637356 % for K-Value: 78\n",
      "Accuracy is  92.14675560946027 % for K-Value: 79\n",
      "Accuracy is  91.99514857489388 % for K-Value: 80\n",
      "Accuracy is  92.14675560946027 % for K-Value: 81\n",
      "Accuracy is  92.05579138872044 % for K-Value: 82\n",
      "Accuracy is  92.02546998180715 % for K-Value: 83\n",
      "Accuracy is  91.93450576106731 % for K-Value: 84\n",
      "Accuracy is  91.96482716798059 % for K-Value: 85\n",
      "Accuracy is  91.87386294724075 % for K-Value: 86\n"
     ]
    }
   ],
   "source": [
    "from sklearn.metrics import accuracy_score\n",
    "from sklearn.neighbors import KNeighborsClassifier\n",
    "list_k = []\n",
    "list_acc = []\n",
    "for K_value in range(1,int(y_train.shape[0]**0.5)):        \n",
    "    list_k.append(K_value)\n",
    "    neigh = KNeighborsClassifier(n_neighbors = K_value)\n",
    "    neigh.fit(X_train_s, y_train) \n",
    "    y_pred = neigh.predict(X_test_s)\n",
    "    acc = accuracy_score(y_test,y_pred)*100 \n",
    "    list_acc.append(acc)\n",
    "    print(\"Accuracy is \", accuracy_score(y_test,y_pred)*100,\"% for K-Value:\",K_value)\n",
    "    "
   ]
  },
  {
   "cell_type": "code",
   "execution_count": 91,
   "metadata": {
    "ExecuteTime": {
     "end_time": "2019-12-09T11:15:32.575183Z",
     "start_time": "2019-12-09T11:15:32.456333Z"
    }
   },
   "outputs": [
    {
     "data": {
      "image/png": "[encoded data removed]",
      "text/plain": [
       "<Figure size 432x288 with 1 Axes>"
      ]
     },
     "metadata": {},
     "output_type": "display_data"
    }
   ],
   "source": [
    "import matplotlib.pyplot as plt\n",
    "plt.plot(list_k, list_acc)\n",
    "plt.xlabel('Number of Neighbors K')\n",
    "plt.ylabel('Test Accuracy')\n",
    "plt.show()"
   ]
  },
  {
   "cell_type": "code",
   "execution_count": 92,
   "metadata": {
    "ExecuteTime": {
     "end_time": "2019-12-09T11:15:32.581197Z",
     "start_time": "2019-12-09T11:15:32.577181Z"
    }
   },
   "outputs": [
    {
     "name": "stdout",
     "output_type": "stream",
     "text": [
      "The optimal number of neighbors is 7 with 95.72468162522742\n"
     ]
    }
   ],
   "source": [
    "vi_tri = list_acc.index(max(list_acc))\n",
    "k = list_k[vi_tri]\n",
    "print(\"The optimal number of neighbors is\", k,\"with\", list_acc[vi_tri])"
   ]
  },
  {
   "cell_type": "code",
   "execution_count": 93,
   "metadata": {
    "ExecuteTime": {
     "end_time": "2019-12-09T11:15:32.614736Z",
     "start_time": "2019-12-09T11:15:32.583161Z"
    }
   },
   "outputs": [
    {
     "data": {
      "text/plain": [
       "KNeighborsClassifier(algorithm='auto', leaf_size=30, metric='minkowski',\n",
       "                     metric_params=None, n_jobs=None, n_neighbors=7, p=2,\n",
       "                     weights='uniform')"
      ]
     },
     "execution_count": 93,
     "metadata": {},
     "output_type": "execute_result"
    }
   ],
   "source": [
    "# select k => ap dung model\n",
    "knn = KNeighborsClassifier(n_neighbors=k)\n",
    "knn.fit(X_train_s, y_train)"
   ]
  },
  {
   "cell_type": "code",
   "execution_count": 94,
   "metadata": {
    "ExecuteTime": {
     "end_time": "2019-12-09T11:15:32.782423Z",
     "start_time": "2019-12-09T11:15:32.615701Z"
    }
   },
   "outputs": [],
   "source": [
    "y_pred = knn.predict(X_test_s)"
   ]
  },
  {
   "cell_type": "code",
   "execution_count": 95,
   "metadata": {
    "ExecuteTime": {
     "end_time": "2019-12-09T11:15:33.293538Z",
     "start_time": "2019-12-09T11:15:32.784255Z"
    }
   },
   "outputs": [
    {
     "name": "stdout",
     "output_type": "stream",
     "text": [
      "The Train prediction accuracy is:  96.7507148427346 %\n",
      "The Test prediction accuracy is:  95.72468162522742 %\n"
     ]
    }
   ],
   "source": [
    "# Kiểm tra độ chính xác\n",
    "print(\"The Train prediction accuracy is: \", \n",
    "      knn.score(X_train_s,y_train)*100,\"%\")\n",
    "print(\"The Test prediction accuracy is: \", \n",
    "      knn.score(X_test_s,y_test)*100,\"%\")"
   ]
  },
  {
   "cell_type": "code",
   "execution_count": 96,
   "metadata": {
    "ExecuteTime": {
     "end_time": "2019-12-09T11:15:33.298527Z",
     "start_time": "2019-12-09T11:15:33.295564Z"
    }
   },
   "outputs": [
    {
     "name": "stdout",
     "output_type": "stream",
     "text": [
      "0:00:28.382324\n"
     ]
    }
   ],
   "source": [
    "x2 = datetime.datetime.now() \n",
    "print(x2-x1)"
   ]
  },
  {
   "cell_type": "markdown",
   "metadata": {},
   "source": [
    "**=> Dùng PCA đã giảm được 50% tốc độ xử lý KNN (từ 1 phút xuống còn 30s)**"
   ]
  },
  {
   "cell_type": "code",
   "execution_count": null,
   "metadata": {},
   "outputs": [],
   "source": []
  }
 ],
 "metadata": {
  "kernelspec": {
   "display_name": "Python 3",
   "language": "python",
   "name": "python3"
  },
  "language_info": {
   "codemirror_mode": {
    "name": "ipython",
    "version": 3
   },
   "file_extension": ".py",
   "mimetype": "text/x-python",
   "name": "python",
   "nbconvert_exporter": "python",
   "pygments_lexer": "ipython3",
   "version": "3.6.4"
  },
  "toc": {
   "base_numbering": 1,
   "nav_menu": {},
   "number_sections": true,
   "sideBar": true,
   "skip_h1_title": false,
   "title_cell": "Table of Contents",
   "title_sidebar": "Contents",
   "toc_cell": false,
   "toc_position": {},
   "toc_section_display": true,
   "toc_window_display": false
  }
 },
 "nbformat": 4,
 "nbformat_minor": 2
}
